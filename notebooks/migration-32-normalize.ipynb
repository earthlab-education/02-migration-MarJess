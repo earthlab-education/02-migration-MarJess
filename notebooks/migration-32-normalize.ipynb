{
  "cells": [
    {
      "cell_type": "markdown",
      "id": "683f1a9b-7b2a-4348-a6df-7a02fb5336ad",
      "metadata": {},
      "source": [
        "# Mapping migration\n",
        "\n",
        "Introduction to vector data operations\n",
        "\n",
        "## STEP 0: Set up\n",
        "\n",
        "To get started on this notebook, you’ll need to restore any variables\n",
        "from previous notebooks to your workspace. To save time and memory, make\n",
        "sure to specify which variables you want to load."
      ]
    },
    {
      "cell_type": "code",
      "execution_count": 8,
      "id": "654dde1d",
      "metadata": {},
      "outputs": [],
      "source": [
        "%store -r ecoreg_gdf gbif_gdf"
      ]
    },
    {
      "cell_type": "markdown",
      "id": "22b3e08d-7cb7-4e6e-9ef3-08e5535a3ddd",
      "metadata": {},
      "source": [
        ":::\n",
        "\n",
        "### Identify the ecoregion for each observation\n",
        "\n",
        "You can combine the ecoregions and the observations **spatially** using\n",
        "a method called `.sjoin()`, which stands for spatial join.\n",
        "\n",
        "<link rel=\"stylesheet\" type=\"text/css\" href=\"./assets/styles.css\"><div class=\"callout callout-style-default callout-titled callout-read\"><div class=\"callout-header\"><div class=\"callout-icon-container\"><i class=\"callout-icon\"></i></div><div class=\"callout-title-container flex-fill\">Read More</div></div><div class=\"callout-body-container callout-body\"><p>Check out the <a\n",
        "href=\"https://geopandas.org/en/stable/docs/user_guide/mergingdata.html#spatial-joins\"><code>geopandas</code>\n",
        "documentation on spatial joins</a> to help you figure this one out. You\n",
        "can also ask your favorite LLM (Large-Language Model, like ChatGPT)</p></div></div>\n",
        "\n",
        "<link rel=\"stylesheet\" type=\"text/css\" href=\"./assets/styles.css\"><div class=\"callout callout-style-default callout-titled callout-task\"><div class=\"callout-header\"><div class=\"callout-icon-container\"><i class=\"callout-icon\"></i></div><div class=\"callout-title-container flex-fill\">Try It: Perform a spatial join</div></div><div class=\"callout-body-container callout-body\"><p>Identify the correct values for the <code>how=</code> and\n",
        "<code>predicate=</code> parameters of the spatial join.</p></div></div>"
      ]
    },
    {
      "cell_type": "code",
      "execution_count": 9,
      "id": "cf80a6bc",
      "metadata": {
        "template": "student"
      },
      "outputs": [
        {
          "data": {
            "text/html": [
              "<div>\n",
              "<style scoped>\n",
              "    .dataframe tbody tr th:only-of-type {\n",
              "        vertical-align: middle;\n",
              "    }\n",
              "\n",
              "    .dataframe tbody tr th {\n",
              "        vertical-align: top;\n",
              "    }\n",
              "\n",
              "    .dataframe thead th {\n",
              "        text-align: right;\n",
              "    }\n",
              "</style>\n",
              "<table border=\"1\" class=\"dataframe\">\n",
              "  <thead>\n",
              "    <tr style=\"text-align: right;\">\n",
              "      <th></th>\n",
              "      <th>ecoregion</th>\n",
              "      <th>OBJECTID</th>\n",
              "      <th>ECO_NAME</th>\n",
              "      <th>BIOME_NUM</th>\n",
              "      <th>BIOME_NAME</th>\n",
              "      <th>REALM</th>\n",
              "      <th>ECO_BIOME_</th>\n",
              "      <th>NNH</th>\n",
              "      <th>ECO_ID</th>\n",
              "      <th>SHAPE_LENG</th>\n",
              "      <th>SHAPE_AREA</th>\n",
              "      <th>NNH_NAME</th>\n",
              "      <th>COLOR</th>\n",
              "      <th>COLOR_BIO</th>\n",
              "      <th>COLOR_NNH</th>\n",
              "      <th>LICENSE</th>\n",
              "      <th>geometry</th>\n",
              "      <th>gbifID</th>\n",
              "      <th>month</th>\n",
              "    </tr>\n",
              "  </thead>\n",
              "  <tbody>\n",
              "    <tr>\n",
              "      <th>0</th>\n",
              "      <td>12</td>\n",
              "      <td>13.0</td>\n",
              "      <td>Alberta-British Columbia foothills forests</td>\n",
              "      <td>5.0</td>\n",
              "      <td>Temperate Conifer Forests</td>\n",
              "      <td>Nearctic</td>\n",
              "      <td>NE05</td>\n",
              "      <td>2</td>\n",
              "      <td>345</td>\n",
              "      <td>62.333821</td>\n",
              "      <td>17.133639</td>\n",
              "      <td>Nature Could Reach Half Protected</td>\n",
              "      <td>#5DAD4C</td>\n",
              "      <td>#458970</td>\n",
              "      <td>#7BC141</td>\n",
              "      <td>CC-BY 4.0</td>\n",
              "      <td>MULTIPOLYGON (((-119.53979 55.81661, -119.5443...</td>\n",
              "      <td>4621947377</td>\n",
              "      <td>5</td>\n",
              "    </tr>\n",
              "    <tr>\n",
              "      <th>1</th>\n",
              "      <td>12</td>\n",
              "      <td>13.0</td>\n",
              "      <td>Alberta-British Columbia foothills forests</td>\n",
              "      <td>5.0</td>\n",
              "      <td>Temperate Conifer Forests</td>\n",
              "      <td>Nearctic</td>\n",
              "      <td>NE05</td>\n",
              "      <td>2</td>\n",
              "      <td>345</td>\n",
              "      <td>62.333821</td>\n",
              "      <td>17.133639</td>\n",
              "      <td>Nature Could Reach Half Protected</td>\n",
              "      <td>#5DAD4C</td>\n",
              "      <td>#458970</td>\n",
              "      <td>#7BC141</td>\n",
              "      <td>CC-BY 4.0</td>\n",
              "      <td>MULTIPOLYGON (((-119.53979 55.81661, -119.5443...</td>\n",
              "      <td>4743927038</td>\n",
              "      <td>5</td>\n",
              "    </tr>\n",
              "    <tr>\n",
              "      <th>2</th>\n",
              "      <td>12</td>\n",
              "      <td>13.0</td>\n",
              "      <td>Alberta-British Columbia foothills forests</td>\n",
              "      <td>5.0</td>\n",
              "      <td>Temperate Conifer Forests</td>\n",
              "      <td>Nearctic</td>\n",
              "      <td>NE05</td>\n",
              "      <td>2</td>\n",
              "      <td>345</td>\n",
              "      <td>62.333821</td>\n",
              "      <td>17.133639</td>\n",
              "      <td>Nature Could Reach Half Protected</td>\n",
              "      <td>#5DAD4C</td>\n",
              "      <td>#458970</td>\n",
              "      <td>#7BC141</td>\n",
              "      <td>CC-BY 4.0</td>\n",
              "      <td>MULTIPOLYGON (((-119.53979 55.81661, -119.5443...</td>\n",
              "      <td>4761090115</td>\n",
              "      <td>6</td>\n",
              "    </tr>\n",
              "    <tr>\n",
              "      <th>3</th>\n",
              "      <td>12</td>\n",
              "      <td>13.0</td>\n",
              "      <td>Alberta-British Columbia foothills forests</td>\n",
              "      <td>5.0</td>\n",
              "      <td>Temperate Conifer Forests</td>\n",
              "      <td>Nearctic</td>\n",
              "      <td>NE05</td>\n",
              "      <td>2</td>\n",
              "      <td>345</td>\n",
              "      <td>62.333821</td>\n",
              "      <td>17.133639</td>\n",
              "      <td>Nature Could Reach Half Protected</td>\n",
              "      <td>#5DAD4C</td>\n",
              "      <td>#458970</td>\n",
              "      <td>#7BC141</td>\n",
              "      <td>CC-BY 4.0</td>\n",
              "      <td>MULTIPOLYGON (((-119.53979 55.81661, -119.5443...</td>\n",
              "      <td>5536938630</td>\n",
              "      <td>7</td>\n",
              "    </tr>\n",
              "    <tr>\n",
              "      <th>4</th>\n",
              "      <td>12</td>\n",
              "      <td>13.0</td>\n",
              "      <td>Alberta-British Columbia foothills forests</td>\n",
              "      <td>5.0</td>\n",
              "      <td>Temperate Conifer Forests</td>\n",
              "      <td>Nearctic</td>\n",
              "      <td>NE05</td>\n",
              "      <td>2</td>\n",
              "      <td>345</td>\n",
              "      <td>62.333821</td>\n",
              "      <td>17.133639</td>\n",
              "      <td>Nature Could Reach Half Protected</td>\n",
              "      <td>#5DAD4C</td>\n",
              "      <td>#458970</td>\n",
              "      <td>#7BC141</td>\n",
              "      <td>CC-BY 4.0</td>\n",
              "      <td>MULTIPOLYGON (((-119.53979 55.81661, -119.5443...</td>\n",
              "      <td>4630693711</td>\n",
              "      <td>6</td>\n",
              "    </tr>\n",
              "    <tr>\n",
              "      <th>...</th>\n",
              "      <td>...</td>\n",
              "      <td>...</td>\n",
              "      <td>...</td>\n",
              "      <td>...</td>\n",
              "      <td>...</td>\n",
              "      <td>...</td>\n",
              "      <td>...</td>\n",
              "      <td>...</td>\n",
              "      <td>...</td>\n",
              "      <td>...</td>\n",
              "      <td>...</td>\n",
              "      <td>...</td>\n",
              "      <td>...</td>\n",
              "      <td>...</td>\n",
              "      <td>...</td>\n",
              "      <td>...</td>\n",
              "      <td>...</td>\n",
              "      <td>...</td>\n",
              "      <td>...</td>\n",
              "    </tr>\n",
              "    <tr>\n",
              "      <th>162343</th>\n",
              "      <td>839</td>\n",
              "      <td>845.0</td>\n",
              "      <td>North Atlantic moist mixed forests</td>\n",
              "      <td>4.0</td>\n",
              "      <td>Temperate Broadleaf &amp; Mixed Forests</td>\n",
              "      <td>Palearctic</td>\n",
              "      <td>PA04</td>\n",
              "      <td>3</td>\n",
              "      <td>672</td>\n",
              "      <td>89.144126</td>\n",
              "      <td>5.586107</td>\n",
              "      <td>Nature Could Recover</td>\n",
              "      <td>#378F52</td>\n",
              "      <td>#00734C</td>\n",
              "      <td>#F9A91B</td>\n",
              "      <td>CC-BY 4.0</td>\n",
              "      <td>MULTIPOLYGON (((-9.09602 52.60926, -9.07859 52...</td>\n",
              "      <td>4763942306</td>\n",
              "      <td>9</td>\n",
              "    </tr>\n",
              "    <tr>\n",
              "      <th>162344</th>\n",
              "      <td>839</td>\n",
              "      <td>845.0</td>\n",
              "      <td>North Atlantic moist mixed forests</td>\n",
              "      <td>4.0</td>\n",
              "      <td>Temperate Broadleaf &amp; Mixed Forests</td>\n",
              "      <td>Palearctic</td>\n",
              "      <td>PA04</td>\n",
              "      <td>3</td>\n",
              "      <td>672</td>\n",
              "      <td>89.144126</td>\n",
              "      <td>5.586107</td>\n",
              "      <td>Nature Could Recover</td>\n",
              "      <td>#378F52</td>\n",
              "      <td>#00734C</td>\n",
              "      <td>#F9A91B</td>\n",
              "      <td>CC-BY 4.0</td>\n",
              "      <td>MULTIPOLYGON (((-9.09602 52.60926, -9.07859 52...</td>\n",
              "      <td>4712685722</td>\n",
              "      <td>9</td>\n",
              "    </tr>\n",
              "    <tr>\n",
              "      <th>162345</th>\n",
              "      <td>839</td>\n",
              "      <td>845.0</td>\n",
              "      <td>North Atlantic moist mixed forests</td>\n",
              "      <td>4.0</td>\n",
              "      <td>Temperate Broadleaf &amp; Mixed Forests</td>\n",
              "      <td>Palearctic</td>\n",
              "      <td>PA04</td>\n",
              "      <td>3</td>\n",
              "      <td>672</td>\n",
              "      <td>89.144126</td>\n",
              "      <td>5.586107</td>\n",
              "      <td>Nature Could Recover</td>\n",
              "      <td>#378F52</td>\n",
              "      <td>#00734C</td>\n",
              "      <td>#F9A91B</td>\n",
              "      <td>CC-BY 4.0</td>\n",
              "      <td>MULTIPOLYGON (((-9.09602 52.60926, -9.07859 52...</td>\n",
              "      <td>5451152261</td>\n",
              "      <td>9</td>\n",
              "    </tr>\n",
              "    <tr>\n",
              "      <th>162346</th>\n",
              "      <td>839</td>\n",
              "      <td>845.0</td>\n",
              "      <td>North Atlantic moist mixed forests</td>\n",
              "      <td>4.0</td>\n",
              "      <td>Temperate Broadleaf &amp; Mixed Forests</td>\n",
              "      <td>Palearctic</td>\n",
              "      <td>PA04</td>\n",
              "      <td>3</td>\n",
              "      <td>672</td>\n",
              "      <td>89.144126</td>\n",
              "      <td>5.586107</td>\n",
              "      <td>Nature Could Recover</td>\n",
              "      <td>#378F52</td>\n",
              "      <td>#00734C</td>\n",
              "      <td>#F9A91B</td>\n",
              "      <td>CC-BY 4.0</td>\n",
              "      <td>MULTIPOLYGON (((-9.09602 52.60926, -9.07859 52...</td>\n",
              "      <td>4636615410</td>\n",
              "      <td>9</td>\n",
              "    </tr>\n",
              "    <tr>\n",
              "      <th>162347</th>\n",
              "      <td>839</td>\n",
              "      <td>845.0</td>\n",
              "      <td>North Atlantic moist mixed forests</td>\n",
              "      <td>4.0</td>\n",
              "      <td>Temperate Broadleaf &amp; Mixed Forests</td>\n",
              "      <td>Palearctic</td>\n",
              "      <td>PA04</td>\n",
              "      <td>3</td>\n",
              "      <td>672</td>\n",
              "      <td>89.144126</td>\n",
              "      <td>5.586107</td>\n",
              "      <td>Nature Could Recover</td>\n",
              "      <td>#378F52</td>\n",
              "      <td>#00734C</td>\n",
              "      <td>#F9A91B</td>\n",
              "      <td>CC-BY 4.0</td>\n",
              "      <td>MULTIPOLYGON (((-9.09602 52.60926, -9.07859 52...</td>\n",
              "      <td>5006750152</td>\n",
              "      <td>9</td>\n",
              "    </tr>\n",
              "  </tbody>\n",
              "</table>\n",
              "<p>162348 rows × 19 columns</p>\n",
              "</div>"
            ],
            "text/plain": [
              "        ecoregion  OBJECTID                                    ECO_NAME  \\\n",
              "0              12      13.0  Alberta-British Columbia foothills forests   \n",
              "1              12      13.0  Alberta-British Columbia foothills forests   \n",
              "2              12      13.0  Alberta-British Columbia foothills forests   \n",
              "3              12      13.0  Alberta-British Columbia foothills forests   \n",
              "4              12      13.0  Alberta-British Columbia foothills forests   \n",
              "...           ...       ...                                         ...   \n",
              "162343        839     845.0          North Atlantic moist mixed forests   \n",
              "162344        839     845.0          North Atlantic moist mixed forests   \n",
              "162345        839     845.0          North Atlantic moist mixed forests   \n",
              "162346        839     845.0          North Atlantic moist mixed forests   \n",
              "162347        839     845.0          North Atlantic moist mixed forests   \n",
              "\n",
              "        BIOME_NUM                           BIOME_NAME       REALM ECO_BIOME_  \\\n",
              "0             5.0            Temperate Conifer Forests    Nearctic       NE05   \n",
              "1             5.0            Temperate Conifer Forests    Nearctic       NE05   \n",
              "2             5.0            Temperate Conifer Forests    Nearctic       NE05   \n",
              "3             5.0            Temperate Conifer Forests    Nearctic       NE05   \n",
              "4             5.0            Temperate Conifer Forests    Nearctic       NE05   \n",
              "...           ...                                  ...         ...        ...   \n",
              "162343        4.0  Temperate Broadleaf & Mixed Forests  Palearctic       PA04   \n",
              "162344        4.0  Temperate Broadleaf & Mixed Forests  Palearctic       PA04   \n",
              "162345        4.0  Temperate Broadleaf & Mixed Forests  Palearctic       PA04   \n",
              "162346        4.0  Temperate Broadleaf & Mixed Forests  Palearctic       PA04   \n",
              "162347        4.0  Temperate Broadleaf & Mixed Forests  Palearctic       PA04   \n",
              "\n",
              "        NNH  ECO_ID  SHAPE_LENG  SHAPE_AREA  \\\n",
              "0         2     345   62.333821   17.133639   \n",
              "1         2     345   62.333821   17.133639   \n",
              "2         2     345   62.333821   17.133639   \n",
              "3         2     345   62.333821   17.133639   \n",
              "4         2     345   62.333821   17.133639   \n",
              "...     ...     ...         ...         ...   \n",
              "162343    3     672   89.144126    5.586107   \n",
              "162344    3     672   89.144126    5.586107   \n",
              "162345    3     672   89.144126    5.586107   \n",
              "162346    3     672   89.144126    5.586107   \n",
              "162347    3     672   89.144126    5.586107   \n",
              "\n",
              "                                 NNH_NAME    COLOR COLOR_BIO COLOR_NNH  \\\n",
              "0       Nature Could Reach Half Protected  #5DAD4C   #458970   #7BC141   \n",
              "1       Nature Could Reach Half Protected  #5DAD4C   #458970   #7BC141   \n",
              "2       Nature Could Reach Half Protected  #5DAD4C   #458970   #7BC141   \n",
              "3       Nature Could Reach Half Protected  #5DAD4C   #458970   #7BC141   \n",
              "4       Nature Could Reach Half Protected  #5DAD4C   #458970   #7BC141   \n",
              "...                                   ...      ...       ...       ...   \n",
              "162343               Nature Could Recover  #378F52   #00734C   #F9A91B   \n",
              "162344               Nature Could Recover  #378F52   #00734C   #F9A91B   \n",
              "162345               Nature Could Recover  #378F52   #00734C   #F9A91B   \n",
              "162346               Nature Could Recover  #378F52   #00734C   #F9A91B   \n",
              "162347               Nature Could Recover  #378F52   #00734C   #F9A91B   \n",
              "\n",
              "          LICENSE                                           geometry  \\\n",
              "0       CC-BY 4.0  MULTIPOLYGON (((-119.53979 55.81661, -119.5443...   \n",
              "1       CC-BY 4.0  MULTIPOLYGON (((-119.53979 55.81661, -119.5443...   \n",
              "2       CC-BY 4.0  MULTIPOLYGON (((-119.53979 55.81661, -119.5443...   \n",
              "3       CC-BY 4.0  MULTIPOLYGON (((-119.53979 55.81661, -119.5443...   \n",
              "4       CC-BY 4.0  MULTIPOLYGON (((-119.53979 55.81661, -119.5443...   \n",
              "...           ...                                                ...   \n",
              "162343  CC-BY 4.0  MULTIPOLYGON (((-9.09602 52.60926, -9.07859 52...   \n",
              "162344  CC-BY 4.0  MULTIPOLYGON (((-9.09602 52.60926, -9.07859 52...   \n",
              "162345  CC-BY 4.0  MULTIPOLYGON (((-9.09602 52.60926, -9.07859 52...   \n",
              "162346  CC-BY 4.0  MULTIPOLYGON (((-9.09602 52.60926, -9.07859 52...   \n",
              "162347  CC-BY 4.0  MULTIPOLYGON (((-9.09602 52.60926, -9.07859 52...   \n",
              "\n",
              "            gbifID  month  \n",
              "0       4621947377      5  \n",
              "1       4743927038      5  \n",
              "2       4761090115      6  \n",
              "3       5536938630      7  \n",
              "4       4630693711      6  \n",
              "...            ...    ...  \n",
              "162343  4763942306      9  \n",
              "162344  4712685722      9  \n",
              "162345  5451152261      9  \n",
              "162346  4636615410      9  \n",
              "162347  5006750152      9  \n",
              "\n",
              "[162348 rows x 19 columns]"
            ]
          },
          "execution_count": 9,
          "metadata": {},
          "output_type": "execute_result"
        }
      ],
      "source": [
        "gbif_ecoregion_gdf = (\n",
        "    ecoreg_gdf\n",
        "    # Match the CRS of the GBIF data and the ecoregions\n",
        "    .to_crs(gbif_gdf.crs)\n",
        "    # Find ecoregion for each observation\n",
        "    .sjoin(\n",
        "        gbif_gdf,\n",
        "        how='inner',                    # method how to join \n",
        "                                        # right join should give the same result\n",
        "        predicate='contains')           # specifies the spatial join\n",
        ")\n",
        "# reset index\n",
        "gbif_ecoregion_gdf.reset_index(inplace=True)\n",
        "# rename former index column to ecoregion \n",
        "gbif_ecoregion_gdf.rename(columns={'index':'ecoregion'}, inplace=True)\n",
        "gbif_ecoregion_gdf"
      ]
    },
    {
      "cell_type": "markdown",
      "id": "3c6e544c-b550-4833-be00-5cbc5d3f835e",
      "metadata": {},
      "source": [
        "### Count the observations in each ecoregion each month\n",
        "\n",
        "<link rel=\"stylesheet\" type=\"text/css\" href=\"./assets/styles.css\"><div class=\"callout callout-style-default callout-titled callout-task\"><div class=\"callout-header\"><div class=\"callout-icon-container\"><i class=\"callout-icon\"></i></div><div class=\"callout-title-container flex-fill\">Try It: Group observations by ecoregion</div></div><div class=\"callout-body-container callout-body\"><ol type=\"1\">\n",
        "<li>Replace <code>columns_to_group_by</code> with a list of columns.\n",
        "Keep in mind that you will end up with one row for each group – you want\n",
        "to count the observations in each ecoregion by month.</li>\n",
        "<li>Select only month/ecosystem combinations that have more than one\n",
        "occurrence recorded, since a single occurrence could be an error.</li>\n",
        "<li>Use the <code>.groupby()</code> and <code>.mean()</code> methods to\n",
        "compute the mean occurrences by ecoregion and by month.</li>\n",
        "<li>Run the code – it will normalize the number of occurrences by month\n",
        "and ecoretion.</li>\n",
        "</ol></div></div>"
      ]
    },
    {
      "cell_type": "code",
      "execution_count": 10,
      "id": "28fb5682",
      "metadata": {
        "template": "student"
      },
      "outputs": [
        {
          "data": {
            "application/vnd.microsoft.datawrangler.viewer.v0+json": {
              "columns": [
                {
                  "name": "month",
                  "rawType": "int64",
                  "type": "integer"
                },
                {
                  "name": "occurrences",
                  "rawType": "float64",
                  "type": "float"
                }
              ],
              "ref": "2ee7e25a-b37f-4f2d-a077-211b177f15d6",
              "rows": [
                [
                  "1",
                  "7.666666666666667"
                ],
                [
                  "2",
                  "7.333333333333333"
                ],
                [
                  "3",
                  "5.0"
                ],
                [
                  "4",
                  "143.52777777777777"
                ],
                [
                  "5",
                  "1226.1864406779662"
                ],
                [
                  "6",
                  "1089.0487804878048"
                ],
                [
                  "7",
                  "568.0512820512821"
                ],
                [
                  "8",
                  "167.56756756756758"
                ],
                [
                  "9",
                  "271.4736842105263"
                ],
                [
                  "10",
                  "33.675"
                ],
                [
                  "11",
                  "6.833333333333333"
                ],
                [
                  "12",
                  "6.0"
                ]
              ],
              "shape": {
                "columns": 1,
                "rows": 12
              }
            },
            "text/html": [
              "<div>\n",
              "<style scoped>\n",
              "    .dataframe tbody tr th:only-of-type {\n",
              "        vertical-align: middle;\n",
              "    }\n",
              "\n",
              "    .dataframe tbody tr th {\n",
              "        vertical-align: top;\n",
              "    }\n",
              "\n",
              "    .dataframe thead th {\n",
              "        text-align: right;\n",
              "    }\n",
              "</style>\n",
              "<table border=\"1\" class=\"dataframe\">\n",
              "  <thead>\n",
              "    <tr style=\"text-align: right;\">\n",
              "      <th></th>\n",
              "      <th>occurrences</th>\n",
              "    </tr>\n",
              "    <tr>\n",
              "      <th>month</th>\n",
              "      <th></th>\n",
              "    </tr>\n",
              "  </thead>\n",
              "  <tbody>\n",
              "    <tr>\n",
              "      <th>1</th>\n",
              "      <td>7.666667</td>\n",
              "    </tr>\n",
              "    <tr>\n",
              "      <th>2</th>\n",
              "      <td>7.333333</td>\n",
              "    </tr>\n",
              "    <tr>\n",
              "      <th>3</th>\n",
              "      <td>5.000000</td>\n",
              "    </tr>\n",
              "    <tr>\n",
              "      <th>4</th>\n",
              "      <td>143.527778</td>\n",
              "    </tr>\n",
              "    <tr>\n",
              "      <th>5</th>\n",
              "      <td>1226.186441</td>\n",
              "    </tr>\n",
              "    <tr>\n",
              "      <th>6</th>\n",
              "      <td>1089.048780</td>\n",
              "    </tr>\n",
              "    <tr>\n",
              "      <th>7</th>\n",
              "      <td>568.051282</td>\n",
              "    </tr>\n",
              "    <tr>\n",
              "      <th>8</th>\n",
              "      <td>167.567568</td>\n",
              "    </tr>\n",
              "    <tr>\n",
              "      <th>9</th>\n",
              "      <td>271.473684</td>\n",
              "    </tr>\n",
              "    <tr>\n",
              "      <th>10</th>\n",
              "      <td>33.675000</td>\n",
              "    </tr>\n",
              "    <tr>\n",
              "      <th>11</th>\n",
              "      <td>6.833333</td>\n",
              "    </tr>\n",
              "    <tr>\n",
              "      <th>12</th>\n",
              "      <td>6.000000</td>\n",
              "    </tr>\n",
              "  </tbody>\n",
              "</table>\n",
              "</div>"
            ],
            "text/plain": [
              "       occurrences\n",
              "month             \n",
              "1         7.666667\n",
              "2         7.333333\n",
              "3         5.000000\n",
              "4       143.527778\n",
              "5      1226.186441\n",
              "6      1089.048780\n",
              "7       568.051282\n",
              "8       167.567568\n",
              "9       271.473684\n",
              "10       33.675000\n",
              "11        6.833333\n",
              "12        6.000000"
            ]
          },
          "execution_count": 10,
          "metadata": {},
          "output_type": "execute_result"
        }
      ],
      "source": [
        "occurrence_df = (\n",
        "    gbif_ecoregion_gdf\n",
        "    # Select only necessary columns\n",
        "    [['ecoregion', 'month']]\n",
        "    # For each ecoregion, for each month...\n",
        "    .groupby(['ecoregion', 'month'])\n",
        "    # ...count the number of occurrences\n",
        "    .agg(occurrences=('ecoregion', 'count'))\n",
        ")\n",
        "\n",
        "# Get rid of rare observations (possible misidentification?)\n",
        "occurrence_df = occurrence_df[occurrence_df.occurrences > 1]\n",
        "\n",
        "# Take the mean by ecoregion\n",
        "mean_occurrences_by_ecoregion = (\n",
        "    occurrence_df.groupby('ecoregion').mean()\n",
        ")\n",
        "# Take the mean by month\n",
        "mean_occurrences_by_month = (\n",
        "    occurrence_df.groupby('month').mean()\n",
        ")\n",
        "\n",
        "mean_occurrences_by_month"
      ]
    },
    {
      "cell_type": "markdown",
      "id": "1296023c-3260-4be2-9e58-e5a1a7a878e9",
      "metadata": {},
      "source": [
        "### Normalize the observations\n",
        "\n",
        "<link rel=\"stylesheet\" type=\"text/css\" href=\"./assets/styles.css\"><div class=\"callout callout-style-default callout-titled callout-task\"><div class=\"callout-header\"><div class=\"callout-icon-container\"><i class=\"callout-icon\"></i></div><div class=\"callout-title-container flex-fill\">Try It: Normalize</div></div><div class=\"callout-body-container callout-body\"><ol type=\"1\">\n",
        "<li>Divide occurrences by the mean occurrences by month AND the mean\n",
        "occurrences by ecoregion</li>\n",
        "</ol></div></div>"
      ]
    },
    {
      "cell_type": "code",
      "execution_count": 11,
      "id": "ee2125ce",
      "metadata": {
        "template": "student"
      },
      "outputs": [
        {
          "data": {
            "application/vnd.microsoft.datawrangler.viewer.v0+json": {
              "columns": [
                {
                  "name": "('ecoregion', 'month')",
                  "rawType": "object",
                  "type": "unknown"
                },
                {
                  "name": "occurrences",
                  "rawType": "int64",
                  "type": "integer"
                },
                {
                  "name": "norm_occurrences",
                  "rawType": "float64",
                  "type": "float"
                }
              ],
              "ref": "b8975138-7373-4d06-825a-ece53059b486",
              "rows": [
                [
                  "(np.int64(12), np.int64(5))",
                  "2",
                  "0.0008155366645932683"
                ],
                [
                  "(np.int64(12), np.int64(6))",
                  "2",
                  "0.0009182325143893754"
                ],
                [
                  "(np.int64(12), np.int64(7))",
                  "2",
                  "0.0017604044416358218"
                ],
                [
                  "(np.int64(16), np.int64(4))",
                  "2",
                  "9.612268244763772e-06"
                ],
                [
                  "(np.int64(16), np.int64(5))",
                  "3023",
                  "0.001700644288617234"
                ],
                [
                  "(np.int64(16), np.int64(6))",
                  "3242",
                  "0.002053513321441956"
                ],
                [
                  "(np.int64(16), np.int64(7))",
                  "1823",
                  "0.0022137622192012667"
                ],
                [
                  "(np.int64(16), np.int64(8))",
                  "465",
                  "0.001914233157047597"
                ],
                [
                  "(np.int64(16), np.int64(9))",
                  "143",
                  "0.00036336253577567404"
                ],
                [
                  "(np.int64(22), np.int64(10))",
                  "3",
                  "0.029695619896065333"
                ],
                [
                  "(np.int64(32), np.int64(4))",
                  "103",
                  "0.0007531361085472359"
                ],
                [
                  "(np.int64(32), np.int64(5))",
                  "2936",
                  "0.002512879989613321"
                ],
                [
                  "(np.int64(32), np.int64(6))",
                  "1998",
                  "0.0019253972932908254"
                ],
                [
                  "(np.int64(32), np.int64(7))",
                  "866",
                  "0.0015999357908840107"
                ],
                [
                  "(np.int64(32), np.int64(8))",
                  "182",
                  "0.0011398655510954198"
                ],
                [
                  "(np.int64(32), np.int64(9))",
                  "531",
                  "0.0020527638468474177"
                ],
                [
                  "(np.int64(32), np.int64(10))",
                  "54",
                  "0.0016829001980079004"
                ],
                [
                  "(np.int64(33), np.int64(4))",
                  "51",
                  "0.0014327899760889517"
                ],
                [
                  "(np.int64(33), np.int64(5))",
                  "823",
                  "0.0027063978829042733"
                ],
                [
                  "(np.int64(33), np.int64(6))",
                  "390",
                  "0.0014439946798865178"
                ],
                [
                  "(np.int64(33), np.int64(7))",
                  "156",
                  "0.0011073511810289847"
                ],
                [
                  "(np.int64(33), np.int64(8))",
                  "64",
                  "0.0015400624349635795"
                ],
                [
                  "(np.int64(33), np.int64(9))",
                  "237",
                  "0.0035202128857146435"
                ],
                [
                  "(np.int64(33), np.int64(10))",
                  "15",
                  "0.001796106042100726"
                ],
                [
                  "(np.int64(34), np.int64(4))",
                  "275",
                  "0.006376057966739519"
                ],
                [
                  "(np.int64(34), np.int64(5))",
                  "701",
                  "0.0019024665619962766"
                ],
                [
                  "(np.int64(34), np.int64(7))",
                  "2",
                  "1.1716502107393157e-05"
                ],
                [
                  "(np.int64(34), np.int64(8))",
                  "23",
                  "0.0004567656057109119"
                ],
                [
                  "(np.int64(34), np.int64(9))",
                  "682",
                  "0.008360113266050703"
                ],
                [
                  "(np.int64(34), np.int64(10))",
                  "120",
                  "0.011858483818728251"
                ],
                [
                  "(np.int64(38), np.int64(1))",
                  "2",
                  "0.10434782608695653"
                ],
                [
                  "(np.int64(38), np.int64(11))",
                  "3",
                  "0.17560975609756097"
                ],
                [
                  "(np.int64(49), np.int64(4))",
                  "6",
                  "0.00021052250516211764"
                ],
                [
                  "(np.int64(49), np.int64(5))",
                  "799",
                  "0.003281508320194352"
                ],
                [
                  "(np.int64(49), np.int64(6))",
                  "75",
                  "0.00034681443888807343"
                ],
                [
                  "(np.int64(49), np.int64(7))",
                  "30",
                  "0.00026596038326872127"
                ],
                [
                  "(np.int64(49), np.int64(8))",
                  "49",
                  "0.0014726154560222788"
                ],
                [
                  "(np.int64(49), np.int64(9))",
                  "405",
                  "0.007512950477152206"
                ],
                [
                  "(np.int64(49), np.int64(10))",
                  "26",
                  "0.0038882034684056765"
                ],
                [
                  "(np.int64(56), np.int64(4))",
                  "233",
                  "0.012757399896502021"
                ],
                [
                  "(np.int64(56), np.int64(5))",
                  "230",
                  "0.0014740544821725086"
                ],
                [
                  "(np.int64(56), np.int64(9))",
                  "11",
                  "0.00031842499986668813"
                ],
                [
                  "(np.int64(56), np.int64(10))",
                  "35",
                  "0.008167753998917775"
                ],
                [
                  "(np.int64(66), np.int64(5))",
                  "3",
                  "0.000978643997511922"
                ],
                [
                  "(np.int64(66), np.int64(9))",
                  "2",
                  "0.0029468786351298957"
                ],
                [
                  "(np.int64(73), np.int64(5))",
                  "30",
                  "0.0006568080520214241"
                ],
                [
                  "(np.int64(73), np.int64(6))",
                  "83",
                  "0.0020459945958206218"
                ],
                [
                  "(np.int64(73), np.int64(7))",
                  "31",
                  "0.0014650345688781337"
                ],
                [
                  "(np.int64(73), np.int64(8))",
                  "5",
                  "0.0008010391859709894"
                ],
                [
                  "(np.int64(81), np.int64(5))",
                  "24",
                  "0.0005018687166727805"
                ]
              ],
              "shape": {
                "columns": 2,
                "rows": 309
              }
            },
            "text/html": [
              "<div>\n",
              "<style scoped>\n",
              "    .dataframe tbody tr th:only-of-type {\n",
              "        vertical-align: middle;\n",
              "    }\n",
              "\n",
              "    .dataframe tbody tr th {\n",
              "        vertical-align: top;\n",
              "    }\n",
              "\n",
              "    .dataframe thead th {\n",
              "        text-align: right;\n",
              "    }\n",
              "</style>\n",
              "<table border=\"1\" class=\"dataframe\">\n",
              "  <thead>\n",
              "    <tr style=\"text-align: right;\">\n",
              "      <th></th>\n",
              "      <th></th>\n",
              "      <th>occurrences</th>\n",
              "      <th>norm_occurrences</th>\n",
              "    </tr>\n",
              "    <tr>\n",
              "      <th>ecoregion</th>\n",
              "      <th>month</th>\n",
              "      <th></th>\n",
              "      <th></th>\n",
              "    </tr>\n",
              "  </thead>\n",
              "  <tbody>\n",
              "    <tr>\n",
              "      <th rowspan=\"3\" valign=\"top\">12</th>\n",
              "      <th>5</th>\n",
              "      <td>2</td>\n",
              "      <td>0.000816</td>\n",
              "    </tr>\n",
              "    <tr>\n",
              "      <th>6</th>\n",
              "      <td>2</td>\n",
              "      <td>0.000918</td>\n",
              "    </tr>\n",
              "    <tr>\n",
              "      <th>7</th>\n",
              "      <td>2</td>\n",
              "      <td>0.001760</td>\n",
              "    </tr>\n",
              "    <tr>\n",
              "      <th rowspan=\"2\" valign=\"top\">16</th>\n",
              "      <th>4</th>\n",
              "      <td>2</td>\n",
              "      <td>0.000010</td>\n",
              "    </tr>\n",
              "    <tr>\n",
              "      <th>5</th>\n",
              "      <td>3023</td>\n",
              "      <td>0.001701</td>\n",
              "    </tr>\n",
              "    <tr>\n",
              "      <th>...</th>\n",
              "      <th>...</th>\n",
              "      <td>...</td>\n",
              "      <td>...</td>\n",
              "    </tr>\n",
              "    <tr>\n",
              "      <th rowspan=\"3\" valign=\"top\">833</th>\n",
              "      <th>7</th>\n",
              "      <td>297</td>\n",
              "      <td>0.002202</td>\n",
              "    </tr>\n",
              "    <tr>\n",
              "      <th>8</th>\n",
              "      <td>40</td>\n",
              "      <td>0.001006</td>\n",
              "    </tr>\n",
              "    <tr>\n",
              "      <th>9</th>\n",
              "      <td>11</td>\n",
              "      <td>0.000171</td>\n",
              "    </tr>\n",
              "    <tr>\n",
              "      <th rowspan=\"2\" valign=\"top\">839</th>\n",
              "      <th>9</th>\n",
              "      <td>28</td>\n",
              "      <td>0.005575</td>\n",
              "    </tr>\n",
              "    <tr>\n",
              "      <th>10</th>\n",
              "      <td>9</td>\n",
              "      <td>0.014447</td>\n",
              "    </tr>\n",
              "  </tbody>\n",
              "</table>\n",
              "<p>309 rows × 2 columns</p>\n",
              "</div>"
            ],
            "text/plain": [
              "                 occurrences  norm_occurrences\n",
              "ecoregion month                               \n",
              "12        5                2          0.000816\n",
              "          6                2          0.000918\n",
              "          7                2          0.001760\n",
              "16        4                2          0.000010\n",
              "          5             3023          0.001701\n",
              "...                      ...               ...\n",
              "833       7              297          0.002202\n",
              "          8               40          0.001006\n",
              "          9               11          0.000171\n",
              "839       9               28          0.005575\n",
              "          10               9          0.014447\n",
              "\n",
              "[309 rows x 2 columns]"
            ]
          },
          "execution_count": 11,
          "metadata": {},
          "output_type": "execute_result"
        }
      ],
      "source": [
        "# Normalize by space and time for sampling effort\n",
        "occurrence_df['norm_occurrences'] = (\n",
        "    occurrence_df\n",
        "    / mean_occurrences_by_ecoregion\n",
        "    / mean_occurrences_by_month\n",
        ")\n",
        "occurrence_df"
      ]
    },
    {
      "cell_type": "code",
      "execution_count": null,
      "id": "013df1d6",
      "metadata": {},
      "outputs": [
        {
          "data": {
            "text/plain": [
              "<Axes: xlabel='month', ylabel='norm_occurrences'>"
            ]
          },
          "execution_count": 20,
          "metadata": {},
          "output_type": "execute_result"
        },
        {
          "data": {
            "image/png": "[encoded data removed]",
            "text/plain": [
              "<Figure size 640x480 with 2 Axes>"
            ]
          },
          "metadata": {},
          "output_type": "display_data"
        }
      ],
      "source": [
        "# plot normalized occurrence, color-coded by ecoregion\n",
        "# reset_index brings ecoregion and month in separate colmuns \n",
        "occurrence_df.reset_index().plot.scatter(\n",
        "    x='month',\n",
        "    y='norm_occurrences',\n",
        "    c='ecoregion',\n",
        "    cmap='plasma',          # colormab\n",
        "    logy=True               # log y-axis for better vusialization\n",
        ")"
      ]
    },
    {
      "cell_type": "markdown",
      "id": "f4af789e-4b89-4a6f-a39b-a45651239da4",
      "metadata": {},
      "source": [
        "<link rel=\"stylesheet\" type=\"text/css\" href=\"./assets/styles.css\"><div class=\"callout callout-style-default callout-titled callout-task\"><div class=\"callout-header\"><div class=\"callout-icon-container\"><i class=\"callout-icon\"></i></div><div class=\"callout-title-container flex-fill\">Try It</div></div><div class=\"callout-body-container callout-body\"><p>Make sure to store the new version of your <code>DataFrame</code> for\n",
        "other notebooks!</p>\n",
        "<div id=\"f13606e9\" class=\"cell\" data-execution_count=\"9\">\n",
        "<div class=\"sourceCode\" id=\"cb1\"><pre\n",
        "class=\"sourceCode python cell-code\"><code class=\"sourceCode python\"><span id=\"cb1-1\"><a href=\"#cb1-1\" aria-hidden=\"true\" tabindex=\"-1\"></a><span class=\"op\">%</span>store occurrence_df</span></code></pre></div>\n",
        "</div></div></div>\n",
        "\n",
        "# STEP -1: Wrap up\n",
        "\n",
        "Don’t forget to store your variables so you can use them in other\n",
        "notebooks! Replace `var1` and `var2` with the variable you want to save,\n",
        "separated by spaces."
      ]
    },
    {
      "cell_type": "code",
      "execution_count": 12,
      "id": "b2649d00",
      "metadata": {},
      "outputs": [
        {
          "name": "stdout",
          "output_type": "stream",
          "text": [
            "Stored 'occurrence_df' (DataFrame)\n"
          ]
        }
      ],
      "source": [
        "%store occurrence_df"
      ]
    },
    {
      "cell_type": "markdown",
      "id": "db475433-fdc1-49f8-bc5a-001207943236",
      "metadata": {},
      "source": [
        "Finally, be sure to `Restart` and `Run all` to make sure your notebook\n",
        "works all the way through!"
      ]
    }
  ],
  "metadata": {
    "kernelspec": {
      "display_name": "earth-analytics-python",
      "language": "python",
      "name": "python3"
    },
    "language_info": {
      "codemirror_mode": {
        "name": "ipython",
        "version": 3
      },
      "file_extension": ".py",
      "mimetype": "text/x-python",
      "name": "python",
      "nbconvert_exporter": "python",
      "pygments_lexer": "ipython3",
      "version": "3.11.13"
    }
  },
  "nbformat": 4,
  "nbformat_minor": 5
}
